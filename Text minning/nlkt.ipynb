{
 "cells": [
  {
   "cell_type": "code",
   "execution_count": 2,
   "metadata": {},
   "outputs": [],
   "source": [
    "import nltk"
   ]
  },
  {
   "cell_type": "code",
   "execution_count": 4,
   "metadata": {
    "tags": []
   },
   "outputs": [
    {
     "output_type": "stream",
     "name": "stdout",
     "text": "showing info https://raw.githubusercontent.com/nltk/nltk_data/gh-pages/index.xml\n"
    }
   ],
   "source": [
    "# nltk.download()"
   ]
  },
  {
   "cell_type": "code",
   "execution_count": 3,
   "metadata": {
    "tags": []
   },
   "outputs": [
    {
     "output_type": "stream",
     "name": "stdout",
     "text": "*** Introductory Examples for the NLTK Book ***\nLoading text1, ..., text9 and sent1, ..., sent9\nType the name of the text or sentence to view it.\nType: 'texts()' or 'sents()' to list the materials.\ntext1: Moby Dick by Herman Melville 1851\ntext2: Sense and Sensibility by Jane Austen 1811\ntext3: The Book of Genesis\ntext4: Inaugural Address Corpus\ntext5: Chat Corpus\ntext6: Monty Python and the Holy Grail\ntext7: Wall Street Journal\ntext8: Personals Corpus\ntext9: The Man Who Was Thursday by G . K . Chesterton 1908\n"
    }
   ],
   "source": [
    "from nltk.book import *"
   ]
  },
  {
   "cell_type": "code",
   "execution_count": 4,
   "metadata": {
    "tags": []
   },
   "outputs": [
    {
     "output_type": "stream",
     "name": "stdout",
     "text": "text1: Moby Dick by Herman Melville 1851\ntext2: Sense and Sensibility by Jane Austen 1811\ntext3: The Book of Genesis\ntext4: Inaugural Address Corpus\ntext5: Chat Corpus\ntext6: Monty Python and the Holy Grail\ntext7: Wall Street Journal\ntext8: Personals Corpus\ntext9: The Man Who Was Thursday by G . K . Chesterton 1908\n"
    }
   ],
   "source": [
    "texts()"
   ]
  },
  {
   "cell_type": "code",
   "execution_count": 5,
   "metadata": {},
   "outputs": [
    {
     "output_type": "execute_result",
     "data": {
      "text/plain": "<Text: Wall Street Journal>"
     },
     "metadata": {},
     "execution_count": 5
    }
   ],
   "source": [
    "text7"
   ]
  },
  {
   "cell_type": "code",
   "execution_count": 14,
   "metadata": {},
   "outputs": [
    {
     "output_type": "execute_result",
     "data": {
      "text/plain": "['Pierre', 'Vinken', ',', '61', 'years', 'old', ',', 'will', 'join', 'the']"
     },
     "metadata": {},
     "execution_count": 14
    }
   ],
   "source": [
    "word=[]\n",
    "for w in text7:\n",
    "    word.append(w)\n",
    "word[:10]\n"
   ]
  },
  {
   "cell_type": "code",
   "execution_count": 21,
   "metadata": {},
   "outputs": [
    {
     "output_type": "execute_result",
     "data": {
      "text/plain": "12408"
     },
     "metadata": {},
     "execution_count": 21
    }
   ],
   "source": [
    "total_word=len(word)\n",
    "unique_words=len(set(word))\n",
    "unique_words"
   ]
  },
  {
   "cell_type": "code",
   "execution_count": 16,
   "metadata": {},
   "outputs": [
    {
     "output_type": "execute_result",
     "data": {
      "text/plain": "281"
     },
     "metadata": {},
     "execution_count": 16
    }
   ],
   "source": [
    "dist=dict()\n",
    "for w in word:\n",
    "    if w in dist:\n",
    "        dist[w]+=1\n",
    "    else:\n",
    "        dist[w]=1\n",
    "dist['will']"
   ]
  },
  {
   "cell_type": "code",
   "execution_count": 22,
   "metadata": {},
   "outputs": [
    {
     "output_type": "execute_result",
     "data": {
      "text/plain": "281"
     },
     "metadata": {},
     "execution_count": 22
    }
   ],
   "source": [
    "dist1=nltk.FreqDist(word)\n",
    "dist1['will']"
   ]
  },
  {
   "cell_type": "code",
   "execution_count": 23,
   "metadata": {
    "tags": []
   },
   "outputs": [
    {
     "output_type": "stream",
     "name": "stdout",
     "text": "sent1: Call me Ishmael .\nsent2: The family of Dashwood had long been settled in Sussex .\nsent3: In the beginning God created the heaven and the earth .\nsent4: Fellow - Citizens of the Senate and of the House of Representatives :\nsent5: I have a problem with people PMing me to lol JOIN\nsent6: SCENE 1 : [ wind ] [ clop clop clop ] KING ARTHUR : Whoa there !\nsent7: Pierre Vinken , 61 years old , will join the board as a nonexecutive director Nov. 29 .\nsent8: 25 SEXY MALE , seeks attrac older single lady , for discreet encounters .\nsent9: THE suburb of Saffron Park lay on the sunset side of London , as red and ragged as a cloud of sunset .\n"
    }
   ],
   "source": [
    "sents()"
   ]
  },
  {
   "cell_type": "code",
   "execution_count": 24,
   "metadata": {},
   "outputs": [
    {
     "output_type": "execute_result",
     "data": {
      "text/plain": "['Pierre',\n 'Vinken',\n ',',\n '61',\n 'years',\n 'old',\n ',',\n 'will',\n 'join',\n 'the',\n 'board',\n 'as',\n 'a',\n 'nonexecutive',\n 'director',\n 'Nov.',\n '29',\n '.']"
     },
     "metadata": {},
     "execution_count": 24
    }
   ],
   "source": [
    "sent7"
   ]
  },
  {
   "cell_type": "code",
   "execution_count": 25,
   "metadata": {},
   "outputs": [
    {
     "output_type": "execute_result",
     "data": {
      "text/plain": "['I', \"don't\", 'want', 'it.']"
     },
     "metadata": {},
     "execution_count": 25
    }
   ],
   "source": [
    "sentence=\"I don't want it.\"\n",
    "res=sentence.split(' ')\n",
    "res"
   ]
  },
  {
   "cell_type": "code",
   "execution_count": 26,
   "metadata": {},
   "outputs": [
    {
     "output_type": "execute_result",
     "data": {
      "text/plain": "['I', 'do', \"n't\", 'want', 'it', '.']"
     },
     "metadata": {},
     "execution_count": 26
    }
   ],
   "source": [
    "res1=nltk.word_tokenize(sentence)\n",
    "res1"
   ]
  },
  {
   "cell_type": "code",
   "execution_count": 27,
   "metadata": {},
   "outputs": [
    {
     "output_type": "execute_result",
     "data": {
      "text/plain": "[\" I don' want to study in IITR.\",\n \"also i don't like my branch in I.I.T.R.\",\n 'my branch name is architecture and planning.']"
     },
     "metadata": {},
     "execution_count": 27
    }
   ],
   "source": [
    "para=''' I don' want to study in IITR.\n",
    "        also i don't like my branch in I.I.T.R.\n",
    "        my branch name is architecture and planning.'''\n",
    "res2=nltk.sent_tokenize(para)\n",
    "res2"
   ]
  },
  {
   "cell_type": "code",
   "execution_count": 28,
   "metadata": {},
   "outputs": [
    {
     "output_type": "execute_result",
     "data": {
      "text/plain": "['list', 'lists', 'listed', 'listing', 'listings']"
     },
     "metadata": {},
     "execution_count": 28
    }
   ],
   "source": [
    "array=['list','Lists','listed','listing','Listings']\n",
    "array1=[w.lower() for w in array]\n",
    "array1"
   ]
  },
  {
   "cell_type": "code",
   "execution_count": 30,
   "metadata": {},
   "outputs": [
    {
     "output_type": "execute_result",
     "data": {
      "text/plain": "['list', 'list', 'list', 'list', 'list']"
     },
     "metadata": {},
     "execution_count": 30
    }
   ],
   "source": [
    "from nltk import PorterStemmer\n",
    "porter=PorterStemmer()\n",
    "root_word=list()\n",
    "for w in array1:\n",
    "    root_word.append(porter.stem(w))\n",
    "root_word"
   ]
  },
  {
   "cell_type": "code",
   "execution_count": 31,
   "metadata": {},
   "outputs": [
    {
     "output_type": "execute_result",
     "data": {
      "text/plain": "['list', 'list', 'listed', 'listing', 'listing']"
     },
     "metadata": {},
     "execution_count": 31
    }
   ],
   "source": [
    "from nltk import WordNetLemmatizer\n",
    "wnl=WordNetLemmatizer()\n",
    "root_word1=list()\n",
    "for w in array1:\n",
    "    root_word1.append(wnl.lemmatize(w))\n",
    "root_word1\n"
   ]
  },
  {
   "cell_type": "code",
   "execution_count": 33,
   "metadata": {},
   "outputs": [
    {
     "output_type": "execute_result",
     "data": {
      "text/plain": "'wherea'"
     },
     "metadata": {},
     "execution_count": 33
    }
   ],
   "source": [
    "porter.stem('whereas')"
   ]
  },
  {
   "cell_type": "code",
   "execution_count": 36,
   "metadata": {},
   "outputs": [
    {
     "output_type": "execute_result",
     "data": {
      "text/plain": "'whereas'"
     },
     "metadata": {},
     "execution_count": 36
    }
   ],
   "source": [
    "wnl.lemmatize('whereas')"
   ]
  },
  {
   "cell_type": "code",
   "execution_count": 43,
   "metadata": {
    "tags": []
   },
   "outputs": [
    {
     "output_type": "stream",
     "name": "stdout",
     "text": "['go', 'went', 'gone']\n['go', 'went', 'gone']\n"
    }
   ],
   "source": [
    "a=['go','went','gone']\n",
    "stemming_lst=[]\n",
    "lemma_lst=[]\n",
    "for w in a:\n",
    "    stemming_lst.append(porter.stem(w))\n",
    "    lemma_lst.append(wnl.lemmatize(w))\n",
    "print(stemming_lst)\n",
    "print(lemma_lst)"
   ]
  },
  {
   "cell_type": "code",
   "execution_count": 47,
   "metadata": {},
   "outputs": [
    {
     "output_type": "execute_result",
     "data": {
      "text/plain": "[('I', 'PRP'),\n ('do', 'VBP'),\n (\"n't\", 'RB'),\n ('want', 'VB'),\n ('it', 'PRP'),\n ('.', '.')]"
     },
     "metadata": {},
     "execution_count": 47
    }
   ],
   "source": [
    "nltk.pos_tag(res1)"
   ]
  },
  {
   "cell_type": "code",
   "execution_count": 54,
   "metadata": {},
   "outputs": [
    {
     "output_type": "execute_result",
     "data": {
      "text/plain": "[('big', 'JJ'), ('bigger', 'JJR'), ('biggest', 'JJS')]"
     },
     "metadata": {},
     "execution_count": 54
    }
   ],
   "source": [
    "adjective=['big','bigger','biggest']\n",
    "nltk.pos_tag(adjective)"
   ]
  },
  {
   "cell_type": "code",
   "execution_count": null,
   "metadata": {},
   "outputs": [],
   "source": []
  }
 ],
 "metadata": {
  "language_info": {
   "codemirror_mode": {
    "name": "ipython",
    "version": 3
   },
   "file_extension": ".py",
   "mimetype": "text/x-python",
   "name": "python",
   "nbconvert_exporter": "python",
   "pygments_lexer": "ipython3",
   "version": "3.8.3-final"
  },
  "orig_nbformat": 2,
  "kernelspec": {
   "name": "python_defaultSpec_1594532071894",
   "display_name": "Python 3.8.3 32-bit"
  }
 },
 "nbformat": 4,
 "nbformat_minor": 2
}