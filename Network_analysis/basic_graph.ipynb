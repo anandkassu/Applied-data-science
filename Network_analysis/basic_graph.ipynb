{
 "cells": [
  {
   "cell_type": "code",
   "execution_count": 32,
   "metadata": {},
   "outputs": [],
   "source": [
    "import networkx as nx\n",
    "import matplotlib.pyplot as plt\n",
    "%matplotlib notebook\n"
   ]
  },
  {
   "cell_type": "code",
   "execution_count": 49,
   "metadata": {},
   "outputs": [],
   "source": [
    "G=nx.Graph()\n",
    "# G.add_node('A', role='Manager')\n",
    "# G.add_node('B',role=\"Worker\")\n",
    "# G.add_node(\"c\",role='worker')\n",
    "G.add_nodes_from([(\"A\",{'role':'Manger'}),\n",
    "                  (\"B\",{'role':'Worker'}),\n",
    "                  (\"C\",{'role':'Worker'})])"
   ]
  },
  {
   "cell_type": "code",
   "execution_count": 50,
   "metadata": {},
   "outputs": [],
   "source": [
    "# G.add_edge('A','B',weight=6,relation='Friend')\n",
    "# G.add_edge('A','B',weight=7,relation='Neighours')\n",
    "# G.add_edge('B','C',weight=4,relation='Friend')\n",
    "G.add_edges_from([('A','B',{'weight':6,'relation':'Friend'}),\n",
    "                    ('C','A',{'weight':7,'relation':'Neighours'}),\n",
    "                    ('B','C',{'weight':4,'relation':'Friend'})])"
   ]
  },
  {
   "cell_type": "code",
   "execution_count": 51,
   "metadata": {},
   "outputs": [
    {
     "output_type": "execute_result",
     "data": {
      "text/plain": "EdgeView([('A', 'B'), ('A', 'C'), ('B', 'C')])"
     },
     "metadata": {},
     "execution_count": 51
    }
   ],
   "source": [
    "G.edges()"
   ]
  },
  {
   "cell_type": "code",
   "execution_count": 52,
   "metadata": {},
   "outputs": [
    {
     "output_type": "execute_result",
     "data": {
      "text/plain": "EdgeDataView([('A', 'B', {'weight': 6, 'relation': 'Friend'}), ('A', 'C', {'weight': 7, 'relation': 'Neighours'}), ('B', 'C', {'weight': 4, 'relation': 'Friend'})])"
     },
     "metadata": {},
     "execution_count": 52
    }
   ],
   "source": [
    "G.edges(data=True)"
   ]
  },
  {
   "cell_type": "code",
   "execution_count": 53,
   "metadata": {},
   "outputs": [
    {
     "output_type": "execute_result",
     "data": {
      "text/plain": "EdgeDataView([('A', 'B', 6), ('A', 'C', 7), ('B', 'C', 4)])"
     },
     "metadata": {},
     "execution_count": 53
    }
   ],
   "source": [
    "G.edges(data=\"weight\")"
   ]
  },
  {
   "cell_type": "code",
   "execution_count": 63,
   "metadata": {},
   "outputs": [
    {
     "output_type": "execute_result",
     "data": {
      "text/plain": "{'weight': 6, 'relation': 'Friend'}"
     },
     "metadata": {},
     "execution_count": 63
    }
   ],
   "source": [
    "G.get_edge_data('A','B')"
   ]
  },
  {
   "cell_type": "code",
   "execution_count": 65,
   "metadata": {},
   "outputs": [
    {
     "output_type": "execute_result",
     "data": {
      "text/plain": "True"
     },
     "metadata": {},
     "execution_count": 65
    }
   ],
   "source": [
    "G.has_edge('B',\"C\")"
   ]
  },
  {
   "cell_type": "code",
   "execution_count": 58,
   "metadata": {},
   "outputs": [
    {
     "output_type": "execute_result",
     "data": {
      "text/plain": "NodeView(('A', 'B', 'C'))"
     },
     "metadata": {},
     "execution_count": 58
    }
   ],
   "source": [
    "G.nodes()"
   ]
  },
  {
   "cell_type": "code",
   "execution_count": 59,
   "metadata": {},
   "outputs": [
    {
     "output_type": "execute_result",
     "data": {
      "text/plain": "NodeDataView({'A': {'role': 'Manger'}, 'B': {'role': 'Worker'}, 'C': {'role': 'Worker'}})"
     },
     "metadata": {},
     "execution_count": 59
    }
   ],
   "source": [
    "G.nodes(data=True)"
   ]
  },
  {
   "cell_type": "code",
   "execution_count": 60,
   "metadata": {},
   "outputs": [
    {
     "output_type": "execute_result",
     "data": {
      "text/plain": "{'role': 'Manger'}"
     },
     "metadata": {},
     "execution_count": 60
    }
   ],
   "source": [
    "G._node['A']"
   ]
  },
  {
   "cell_type": "code",
   "execution_count": 66,
   "metadata": {},
   "outputs": [],
   "source": [
    "from networkx.algorithms import bipartite"
   ]
  },
  {
   "cell_type": "code",
   "execution_count": 99,
   "metadata": {},
   "outputs": [],
   "source": [
    "G=nx.Graph()\n",
    "G.add_nodes_from(['A',\"B\",\"C\",\"D\"], bipartite=0)\n",
    "\n",
    "G.add_nodes_from([1,2,3], bipartite=1)\n",
    "\n",
    "G.add_edges_from([\n",
    "    ('A',1),('A',2),('A',3),('B',2),('B',3),('C',1),('C',3),('D',2),('D',3)])\n"
   ]
  },
  {
   "cell_type": "code",
   "execution_count": 100,
   "metadata": {},
   "outputs": [
    {
     "output_type": "execute_result",
     "data": {
      "text/plain": "True"
     },
     "metadata": {},
     "execution_count": 100
    }
   ],
   "source": [
    "bipartite.is_bipartite(G)"
   ]
  },
  {
   "cell_type": "code",
   "execution_count": 101,
   "metadata": {},
   "outputs": [
    {
     "output_type": "execute_result",
     "data": {
      "text/plain": "True"
     },
     "metadata": {},
     "execution_count": 101
    }
   ],
   "source": [
    "nx.is_connected(G)"
   ]
  },
  {
   "cell_type": "code",
   "execution_count": 103,
   "metadata": {},
   "outputs": [
    {
     "output_type": "execute_result",
     "data": {
      "text/plain": "(['D', 'A', 'C', 'B'], [1, 2, 3])"
     },
     "metadata": {},
     "execution_count": 103
    }
   ],
   "source": [
    "X,Y=bipartite.sets(G)\n",
    "list(X),list(Y)"
   ]
  },
  {
   "cell_type": "code",
   "execution_count": 104,
   "metadata": {},
   "outputs": [],
   "source": [
    "G1=bipartite.projected_graph(G,X)"
   ]
  },
  {
   "cell_type": "code",
   "execution_count": 105,
   "metadata": {},
   "outputs": [],
   "source": [
    "G2=bipartite.projected_graph(G,Y)"
   ]
  },
  {
   "cell_type": "code",
   "execution_count": null,
   "metadata": {},
   "outputs": [],
   "source": []
  }
 ],
 "metadata": {
  "language_info": {
   "codemirror_mode": {
    "name": "ipython",
    "version": 3
   },
   "file_extension": ".py",
   "mimetype": "text/x-python",
   "name": "python",
   "nbconvert_exporter": "python",
   "pygments_lexer": "ipython3",
   "version": 3
  },
  "orig_nbformat": 2,
  "kernelspec": {
   "name": "python_defaultSpec_1594744444445",
   "display_name": "Python 3.8.3 32-bit"
  }
 },
 "nbformat": 4,
 "nbformat_minor": 2
}